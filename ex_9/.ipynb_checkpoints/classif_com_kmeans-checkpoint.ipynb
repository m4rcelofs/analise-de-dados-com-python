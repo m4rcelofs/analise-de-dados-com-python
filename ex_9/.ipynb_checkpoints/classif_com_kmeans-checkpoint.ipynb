{
 "cells": [
  {
   "cell_type": "code",
   "execution_count": 1,
   "metadata": {},
   "outputs": [],
   "source": [
    "from sklearn.cluster import KMeans\n",
    "from sklearn import preprocessing\n",
    "from sklearn.model_selection import train_test_split as ttsplit\n",
    "from pandas import read_csv, to_datetime, to_numeric\n",
    "from numpy import array"
   ]
  },
  {
   "cell_type": "code",
   "execution_count": 2,
   "metadata": {},
   "outputs": [],
   "source": [
    "df = read_csv(\"crime.csv\")"
   ]
  },
  {
   "cell_type": "code",
   "execution_count": 3,
   "metadata": {},
   "outputs": [],
   "source": [
    "df_norm = df.drop([\"INCIDENT_ID\",\"OFFENSE_ID\",\"INCIDENT_ADDRESS\"], 1)\n",
    "df_norm.fillna(value = 0, inplace = True)\n",
    "df_norm[\"FIRST_OCCURRENCE_DATE\"] = to_numeric(to_datetime(df_norm[\"FIRST_OCCURRENCE_DATE\"]))\n",
    "df_norm[\"LAST_OCCURRENCE_DATE\"] = to_numeric(to_datetime(df_norm[\"LAST_OCCURRENCE_DATE\"]))\n",
    "df_norm[\"REPORTED_DATE\"] = to_numeric(to_datetime(df_norm[\"REPORTED_DATE\"]))"
   ]
  },
  {
   "cell_type": "code",
   "execution_count": 4,
   "metadata": {},
   "outputs": [],
   "source": [
    "table_values = [  list(df_norm[\"OFFENSE_TYPE_ID\"].unique())\n",
    "                , list(df_norm[\"OFFENSE_CATEGORY_ID\"].unique())\n",
    "                , list(df_norm[\"NEIGHBORHOOD_ID\"].unique())]\n",
    "def handle_strings(value):\n",
    "    if value in table_values[0]:\n",
    "        index = table_values[0].index(value)\n",
    "    elif value in table_values[1]:\n",
    "        index = table_values[1].index(value)\n",
    "    else:\n",
    "        index = table_values[2].index(value)\n",
    "    return index + 1"
   ]
  },
  {
   "cell_type": "code",
   "execution_count": 5,
   "metadata": {},
   "outputs": [
    {
     "data": {
      "text/html": [
       "<div>\n",
       "<style scoped>\n",
       "    .dataframe tbody tr th:only-of-type {\n",
       "        vertical-align: middle;\n",
       "    }\n",
       "\n",
       "    .dataframe tbody tr th {\n",
       "        vertical-align: top;\n",
       "    }\n",
       "\n",
       "    .dataframe thead th {\n",
       "        text-align: right;\n",
       "    }\n",
       "</style>\n",
       "<table border=\"1\" class=\"dataframe\">\n",
       "  <thead>\n",
       "    <tr style=\"text-align: right;\">\n",
       "      <th></th>\n",
       "      <th>OFFENSE_CODE</th>\n",
       "      <th>OFFENSE_CODE_EXTENSION</th>\n",
       "      <th>OFFENSE_TYPE_ID</th>\n",
       "      <th>OFFENSE_CATEGORY_ID</th>\n",
       "      <th>FIRST_OCCURRENCE_DATE</th>\n",
       "      <th>LAST_OCCURRENCE_DATE</th>\n",
       "      <th>REPORTED_DATE</th>\n",
       "      <th>GEO_X</th>\n",
       "      <th>GEO_Y</th>\n",
       "      <th>GEO_LON</th>\n",
       "      <th>GEO_LAT</th>\n",
       "      <th>DISTRICT_ID</th>\n",
       "      <th>PRECINCT_ID</th>\n",
       "      <th>NEIGHBORHOOD_ID</th>\n",
       "      <th>IS_CRIME</th>\n",
       "      <th>IS_TRAFFIC</th>\n",
       "    </tr>\n",
       "  </thead>\n",
       "  <tbody>\n",
       "    <tr>\n",
       "      <th>0</th>\n",
       "      <td>5213</td>\n",
       "      <td>0</td>\n",
       "      <td>1</td>\n",
       "      <td>1</td>\n",
       "      <td>1466033460000000000</td>\n",
       "      <td>0</td>\n",
       "      <td>1466033460000000000</td>\n",
       "      <td>3193983.0</td>\n",
       "      <td>1707251.0</td>\n",
       "      <td>-104.809881</td>\n",
       "      <td>39.773188</td>\n",
       "      <td>5</td>\n",
       "      <td>521</td>\n",
       "      <td>1</td>\n",
       "      <td>1</td>\n",
       "      <td>0</td>\n",
       "    </tr>\n",
       "    <tr>\n",
       "      <th>1</th>\n",
       "      <td>2399</td>\n",
       "      <td>0</td>\n",
       "      <td>2</td>\n",
       "      <td>2</td>\n",
       "      <td>1507725000000000000</td>\n",
       "      <td>1507740900000000000</td>\n",
       "      <td>1517248380000000000</td>\n",
       "      <td>3201943.0</td>\n",
       "      <td>1711852.0</td>\n",
       "      <td>-104.781434</td>\n",
       "      <td>39.785649</td>\n",
       "      <td>5</td>\n",
       "      <td>522</td>\n",
       "      <td>2</td>\n",
       "      <td>1</td>\n",
       "      <td>0</td>\n",
       "    </tr>\n",
       "    <tr>\n",
       "      <th>2</th>\n",
       "      <td>2305</td>\n",
       "      <td>0</td>\n",
       "      <td>3</td>\n",
       "      <td>3</td>\n",
       "      <td>1457121600000000000</td>\n",
       "      <td>1461571200000000000</td>\n",
       "      <td>1461704520000000000</td>\n",
       "      <td>3152762.0</td>\n",
       "      <td>1667011.0</td>\n",
       "      <td>-104.957381</td>\n",
       "      <td>39.663490</td>\n",
       "      <td>3</td>\n",
       "      <td>314</td>\n",
       "      <td>3</td>\n",
       "      <td>1</td>\n",
       "      <td>0</td>\n",
       "    </tr>\n",
       "    <tr>\n",
       "      <th>3</th>\n",
       "      <td>2399</td>\n",
       "      <td>0</td>\n",
       "      <td>2</td>\n",
       "      <td>2</td>\n",
       "      <td>1517340000000000000</td>\n",
       "      <td>0</td>\n",
       "      <td>1517351340000000000</td>\n",
       "      <td>3157162.0</td>\n",
       "      <td>1681320.0</td>\n",
       "      <td>-104.941440</td>\n",
       "      <td>39.702698</td>\n",
       "      <td>3</td>\n",
       "      <td>312</td>\n",
       "      <td>4</td>\n",
       "      <td>1</td>\n",
       "      <td>0</td>\n",
       "    </tr>\n",
       "    <tr>\n",
       "      <th>4</th>\n",
       "      <td>2303</td>\n",
       "      <td>0</td>\n",
       "      <td>4</td>\n",
       "      <td>2</td>\n",
       "      <td>1498164780000000000</td>\n",
       "      <td>0</td>\n",
       "      <td>1498234140000000000</td>\n",
       "      <td>3153211.0</td>\n",
       "      <td>1686545.0</td>\n",
       "      <td>-104.955370</td>\n",
       "      <td>39.717107</td>\n",
       "      <td>3</td>\n",
       "      <td>311</td>\n",
       "      <td>5</td>\n",
       "      <td>1</td>\n",
       "      <td>0</td>\n",
       "    </tr>\n",
       "  </tbody>\n",
       "</table>\n",
       "</div>"
      ],
      "text/plain": [
       "   OFFENSE_CODE  OFFENSE_CODE_EXTENSION  OFFENSE_TYPE_ID  OFFENSE_CATEGORY_ID  \\\n",
       "0          5213                       0                1                    1   \n",
       "1          2399                       0                2                    2   \n",
       "2          2305                       0                3                    3   \n",
       "3          2399                       0                2                    2   \n",
       "4          2303                       0                4                    2   \n",
       "\n",
       "   FIRST_OCCURRENCE_DATE  LAST_OCCURRENCE_DATE        REPORTED_DATE  \\\n",
       "0    1466033460000000000                     0  1466033460000000000   \n",
       "1    1507725000000000000   1507740900000000000  1517248380000000000   \n",
       "2    1457121600000000000   1461571200000000000  1461704520000000000   \n",
       "3    1517340000000000000                     0  1517351340000000000   \n",
       "4    1498164780000000000                     0  1498234140000000000   \n",
       "\n",
       "       GEO_X      GEO_Y     GEO_LON    GEO_LAT  DISTRICT_ID  PRECINCT_ID  \\\n",
       "0  3193983.0  1707251.0 -104.809881  39.773188            5          521   \n",
       "1  3201943.0  1711852.0 -104.781434  39.785649            5          522   \n",
       "2  3152762.0  1667011.0 -104.957381  39.663490            3          314   \n",
       "3  3157162.0  1681320.0 -104.941440  39.702698            3          312   \n",
       "4  3153211.0  1686545.0 -104.955370  39.717107            3          311   \n",
       "\n",
       "   NEIGHBORHOOD_ID  IS_CRIME  IS_TRAFFIC  \n",
       "0                1         1           0  \n",
       "1                2         1           0  \n",
       "2                3         1           0  \n",
       "3                4         1           0  \n",
       "4                5         1           0  "
      ]
     },
     "execution_count": 5,
     "metadata": {},
     "output_type": "execute_result"
    }
   ],
   "source": [
    "df_norm[\"OFFENSE_TYPE_ID\"] = list(map(handle_strings, df_norm[\"OFFENSE_TYPE_ID\"]))\n",
    "df_norm[\"OFFENSE_CATEGORY_ID\"] = list(map(handle_strings, df_norm[\"OFFENSE_CATEGORY_ID\"]))\n",
    "df_norm[\"NEIGHBORHOOD_ID\"] = list(map(handle_strings, df_norm[\"NEIGHBORHOOD_ID\"]))\n",
    "df_norm.head()"
   ]
  },
  {
   "cell_type": "code",
   "execution_count": 6,
   "metadata": {},
   "outputs": [
    {
     "data": {
      "text/plain": [
       "KMeans(algorithm='auto', copy_x=True, init='k-means++', max_iter=300,\n",
       "    n_clusters=14, n_init=10, n_jobs=None, precompute_distances='auto',\n",
       "    random_state=None, tol=0.0001, verbose=0)"
      ]
     },
     "execution_count": 6,
     "metadata": {},
     "output_type": "execute_result"
    }
   ],
   "source": [
    "x, y = array(df_norm.drop(\"OFFENSE_CATEGORY_ID\", 1)), array(df_norm[\"OFFENSE_CATEGORY_ID\"])\n",
    "x_now, x_fut, y_now, y_fut = ttsplit(x, y, test_size = 0.3)\n",
    "cfl = KMeans(n_clusters = len(df_norm[\"OFFENSE_CATEGORY_ID\"].unique()))\n",
    "cfl.fit(x_now)"
   ]
  },
  {
   "cell_type": "code",
   "execution_count": 7,
   "metadata": {},
   "outputs": [
    {
     "data": {
      "text/plain": [
       "array([ 6,  1,  5, ..., 10,  2,  4], dtype=int32)"
      ]
     },
     "execution_count": 7,
     "metadata": {},
     "output_type": "execute_result"
    }
   ],
   "source": [
    "cfl.predict(x_fut)"
   ]
  },
  {
   "cell_type": "code",
   "execution_count": null,
   "metadata": {},
   "outputs": [],
   "source": []
  }
 ],
 "metadata": {
  "kernelspec": {
   "display_name": "Python 3",
   "language": "python",
   "name": "python3"
  },
  "language_info": {
   "codemirror_mode": {
    "name": "ipython",
    "version": 3
   },
   "file_extension": ".py",
   "mimetype": "text/x-python",
   "name": "python",
   "nbconvert_exporter": "python",
   "pygments_lexer": "ipython3",
   "version": "3.6.5"
  }
 },
 "nbformat": 4,
 "nbformat_minor": 2
}
