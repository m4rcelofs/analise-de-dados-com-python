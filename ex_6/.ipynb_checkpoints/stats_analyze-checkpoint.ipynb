{
 "cells": [
  {
   "cell_type": "code",
   "execution_count": 28,
   "metadata": {},
   "outputs": [],
   "source": [
    "from quandl import get"
   ]
  },
  {
   "cell_type": "code",
   "execution_count": 29,
   "metadata": {},
   "outputs": [],
   "source": [
    "key = open(\"key\").read()[:-1]\n",
    "df = get(\"XFRA/SES\", authtoken = key)"
   ]
  },
  {
   "cell_type": "code",
   "execution_count": 30,
   "metadata": {},
   "outputs": [
    {
     "data": {
      "text/plain": [
       "28.189279"
      ]
     },
     "execution_count": 30,
     "metadata": {},
     "output_type": "execute_result"
    }
   ],
   "source": [
    "df[\"Open\"].max()"
   ]
  },
  {
   "cell_type": "code",
   "execution_count": 31,
   "metadata": {},
   "outputs": [
    {
     "data": {
      "text/plain": [
       "Date\n",
       "2018-11-19    20.969889\n",
       "2018-11-20    20.754499\n",
       "2018-11-21    20.600000\n",
       "2018-11-22    20.600000\n",
       "2018-11-23    20.600000\n",
       "2018-11-26    20.600000\n",
       "2018-11-27    20.600000\n",
       "2018-11-28    20.600000\n",
       "2018-11-29    20.600000\n",
       "2018-11-30    20.600000\n",
       "Name: Open, dtype: float64"
      ]
     },
     "execution_count": 31,
     "metadata": {},
     "output_type": "execute_result"
    }
   ],
   "source": [
    "# calcula o valor máximo dentro de uma janela de um ano\n",
    "df_max = df[\"Open\"].rolling(365).max()\n",
    "df_max.dropna().tail(10)"
   ]
  },
  {
   "cell_type": "code",
   "execution_count": 32,
   "metadata": {},
   "outputs": [
    {
     "data": {
      "text/plain": [
       "7.338374"
      ]
     },
     "execution_count": 32,
     "metadata": {},
     "output_type": "execute_result"
    }
   ],
   "source": [
    "df[\"Open\"].min()"
   ]
  },
  {
   "cell_type": "code",
   "execution_count": 33,
   "metadata": {},
   "outputs": [
    {
     "data": {
      "text/plain": [
       "Date\n",
       "2018-11-19    10.181612\n",
       "2018-11-20    10.181612\n",
       "2018-11-21    10.181612\n",
       "2018-11-22    10.181612\n",
       "2018-11-23    10.181612\n",
       "2018-11-26    10.181612\n",
       "2018-11-27    10.181612\n",
       "2018-11-28    10.181612\n",
       "2018-11-29    10.181612\n",
       "2018-11-30    10.181612\n",
       "Name: Open, dtype: float64"
      ]
     },
     "execution_count": 33,
     "metadata": {},
     "output_type": "execute_result"
    }
   ],
   "source": [
    "# calcula o valor mínimo dentro de uma janela de um ano\n",
    "df_min = df[\"Open\"].rolling(365).min()\n",
    "df_min.dropna().tail(10)"
   ]
  },
  {
   "cell_type": "code",
   "execution_count": 34,
   "metadata": {},
   "outputs": [
    {
     "data": {
      "text/plain": [
       "15.049353721453842"
      ]
     },
     "execution_count": 34,
     "metadata": {},
     "output_type": "execute_result"
    }
   ],
   "source": [
    "df[\"Open\"].mean()"
   ]
  },
  {
   "cell_type": "code",
   "execution_count": 35,
   "metadata": {},
   "outputs": [
    {
     "data": {
      "text/plain": [
       "Date\n",
       "2008-05-26    9.196874\n",
       "2008-05-27    9.203614\n",
       "2008-05-28    9.210487\n",
       "2008-05-29    9.217443\n",
       "2008-05-30    9.224976\n",
       "2008-06-02    9.232653\n",
       "2008-06-03    9.240148\n",
       "2008-06-04    9.247246\n",
       "2008-06-05    9.254637\n",
       "2008-06-06    9.262366\n",
       "Name: Open, dtype: float64"
      ]
     },
     "execution_count": 35,
     "metadata": {},
     "output_type": "execute_result"
    }
   ],
   "source": [
    "df_mean = df[\"Open\"].rolling(365).mean()\n",
    "df_mean.dropna().head(10)"
   ]
  },
  {
   "cell_type": "code",
   "execution_count": 36,
   "metadata": {},
   "outputs": [
    {
     "data": {
      "text/plain": [
       "5.039098942039774"
      ]
     },
     "execution_count": 36,
     "metadata": {},
     "output_type": "execute_result"
    }
   ],
   "source": [
    "# Desvio padrão\n",
    "df[\"Open\"].std()"
   ]
  },
  {
   "cell_type": "code",
   "execution_count": 37,
   "metadata": {},
   "outputs": [
    {
     "data": {
      "text/plain": [
       "Date\n",
       "2008-05-26    0.824519\n",
       "2008-05-27    0.822560\n",
       "2008-05-28    0.820609\n",
       "2008-05-29    0.818601\n",
       "2008-05-30    0.817220\n",
       "2008-06-02    0.815549\n",
       "2008-06-03    0.813004\n",
       "2008-06-04    0.809682\n",
       "2008-06-05    0.806050\n",
       "2008-06-06    0.803369\n",
       "Name: Open, dtype: float64"
      ]
     },
     "execution_count": 37,
     "metadata": {},
     "output_type": "execute_result"
    }
   ],
   "source": [
    "df_std = df[\"Open\"].rolling(365).std()\n",
    "df_std.dropna().head(10)"
   ]
  },
  {
   "cell_type": "code",
   "execution_count": 38,
   "metadata": {},
   "outputs": [
    {
     "data": {
      "text/html": [
       "<div>\n",
       "<style scoped>\n",
       "    .dataframe tbody tr th:only-of-type {\n",
       "        vertical-align: middle;\n",
       "    }\n",
       "\n",
       "    .dataframe tbody tr th {\n",
       "        vertical-align: top;\n",
       "    }\n",
       "\n",
       "    .dataframe thead th {\n",
       "        text-align: right;\n",
       "    }\n",
       "</style>\n",
       "<table border=\"1\" class=\"dataframe\">\n",
       "  <thead>\n",
       "    <tr style=\"text-align: right;\">\n",
       "      <th></th>\n",
       "      <th>Open</th>\n",
       "      <th>High</th>\n",
       "      <th>Low</th>\n",
       "      <th>Close</th>\n",
       "      <th>Volume</th>\n",
       "      <th>Adjustment Factor</th>\n",
       "      <th>Adjustment Type</th>\n",
       "    </tr>\n",
       "  </thead>\n",
       "  <tbody>\n",
       "    <tr>\n",
       "      <th>count</th>\n",
       "      <td>3109.000000</td>\n",
       "      <td>3109.000000</td>\n",
       "      <td>3109.000000</td>\n",
       "      <td>3109.000000</td>\n",
       "      <td>3109.000000</td>\n",
       "      <td>12.000000</td>\n",
       "      <td>12.0</td>\n",
       "    </tr>\n",
       "    <tr>\n",
       "      <th>mean</th>\n",
       "      <td>15.049354</td>\n",
       "      <td>15.136921</td>\n",
       "      <td>14.998623</td>\n",
       "      <td>15.083193</td>\n",
       "      <td>1071.232551</td>\n",
       "      <td>0.955426</td>\n",
       "      <td>17.0</td>\n",
       "    </tr>\n",
       "    <tr>\n",
       "      <th>std</th>\n",
       "      <td>5.039099</td>\n",
       "      <td>5.074960</td>\n",
       "      <td>5.019980</td>\n",
       "      <td>5.053727</td>\n",
       "      <td>3398.398517</td>\n",
       "      <td>0.009331</td>\n",
       "      <td>0.0</td>\n",
       "    </tr>\n",
       "    <tr>\n",
       "      <th>min</th>\n",
       "      <td>7.338374</td>\n",
       "      <td>7.355723</td>\n",
       "      <td>7.063806</td>\n",
       "      <td>7.063806</td>\n",
       "      <td>0.000000</td>\n",
       "      <td>0.939091</td>\n",
       "      <td>17.0</td>\n",
       "    </tr>\n",
       "    <tr>\n",
       "      <th>25%</th>\n",
       "      <td>10.360477</td>\n",
       "      <td>10.380062</td>\n",
       "      <td>10.301896</td>\n",
       "      <td>10.373478</td>\n",
       "      <td>0.000000</td>\n",
       "      <td>0.951226</td>\n",
       "      <td>17.0</td>\n",
       "    </tr>\n",
       "    <tr>\n",
       "      <th>50%</th>\n",
       "      <td>13.620000</td>\n",
       "      <td>13.703759</td>\n",
       "      <td>13.561754</td>\n",
       "      <td>13.647093</td>\n",
       "      <td>200.000000</td>\n",
       "      <td>0.957240</td>\n",
       "      <td>17.0</td>\n",
       "    </tr>\n",
       "    <tr>\n",
       "      <th>75%</th>\n",
       "      <td>18.524421</td>\n",
       "      <td>18.670000</td>\n",
       "      <td>18.427716</td>\n",
       "      <td>18.552265</td>\n",
       "      <td>887.000000</td>\n",
       "      <td>0.961055</td>\n",
       "      <td>17.0</td>\n",
       "    </tr>\n",
       "    <tr>\n",
       "      <th>max</th>\n",
       "      <td>28.189279</td>\n",
       "      <td>28.189279</td>\n",
       "      <td>28.064083</td>\n",
       "      <td>28.181201</td>\n",
       "      <td>76496.000000</td>\n",
       "      <td>0.969423</td>\n",
       "      <td>17.0</td>\n",
       "    </tr>\n",
       "  </tbody>\n",
       "</table>\n",
       "</div>"
      ],
      "text/plain": [
       "              Open         High          Low        Close        Volume  \\\n",
       "count  3109.000000  3109.000000  3109.000000  3109.000000   3109.000000   \n",
       "mean     15.049354    15.136921    14.998623    15.083193   1071.232551   \n",
       "std       5.039099     5.074960     5.019980     5.053727   3398.398517   \n",
       "min       7.338374     7.355723     7.063806     7.063806      0.000000   \n",
       "25%      10.360477    10.380062    10.301896    10.373478      0.000000   \n",
       "50%      13.620000    13.703759    13.561754    13.647093    200.000000   \n",
       "75%      18.524421    18.670000    18.427716    18.552265    887.000000   \n",
       "max      28.189279    28.189279    28.064083    28.181201  76496.000000   \n",
       "\n",
       "       Adjustment Factor  Adjustment Type  \n",
       "count          12.000000             12.0  \n",
       "mean            0.955426             17.0  \n",
       "std             0.009331              0.0  \n",
       "min             0.939091             17.0  \n",
       "25%             0.951226             17.0  \n",
       "50%             0.957240             17.0  \n",
       "75%             0.961055             17.0  \n",
       "max             0.969423             17.0  "
      ]
     },
     "execution_count": 38,
     "metadata": {},
     "output_type": "execute_result"
    }
   ],
   "source": [
    "df.describe()"
   ]
  },
  {
   "cell_type": "code",
   "execution_count": null,
   "metadata": {},
   "outputs": [],
   "source": []
  }
 ],
 "metadata": {
  "kernelspec": {
   "display_name": "Python 3",
   "language": "python",
   "name": "python3"
  },
  "language_info": {
   "codemirror_mode": {
    "name": "ipython",
    "version": 3
   },
   "file_extension": ".py",
   "mimetype": "text/x-python",
   "name": "python",
   "nbconvert_exporter": "python",
   "pygments_lexer": "ipython3",
   "version": "3.6.5"
  }
 },
 "nbformat": 4,
 "nbformat_minor": 2
}
