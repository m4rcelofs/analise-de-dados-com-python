{
 "cells": [
  {
   "cell_type": "code",
   "execution_count": 1,
   "metadata": {},
   "outputs": [],
   "source": [
    "from pandas import read_csv, to_datetime, concat\n",
    "from quandl import get\n",
    "from matplotlib import pyplot, style\n",
    "from numpy import array\n",
    "from sklearn import preprocessing, svm\n",
    "from sklearn.model_selection import train_test_split as ttsplit\n",
    "from sklearn.linear_model import LinearRegression as lr"
   ]
  },
  {
   "cell_type": "code",
   "execution_count": 2,
   "metadata": {},
   "outputs": [],
   "source": [
    "style.use(\"fivethirtyeight\")"
   ]
  },
  {
   "cell_type": "code",
   "execution_count": 3,
   "metadata": {},
   "outputs": [],
   "source": [
    "# carregar o primeiro dataframe\n",
    "key = open(\"../key\").read()[:-1]\n",
    "df1 = get(\"XFRA/SES\", authtoken = key)\n",
    "\n",
    "# carregar o segundo dataframe\n",
    "df2 = read_csv(\"XRPBTC.csv\")\n",
    "df2.set_index(\"Date\", inplace=True)\n",
    "df2.index = to_datetime(df2.index)"
   ]
  },
  {
   "cell_type": "code",
   "execution_count": 4,
   "metadata": {},
   "outputs": [
    {
     "data": {
      "text/html": [
       "<div>\n",
       "<style scoped>\n",
       "    .dataframe tbody tr th:only-of-type {\n",
       "        vertical-align: middle;\n",
       "    }\n",
       "\n",
       "    .dataframe tbody tr th {\n",
       "        vertical-align: top;\n",
       "    }\n",
       "\n",
       "    .dataframe thead th {\n",
       "        text-align: right;\n",
       "    }\n",
       "</style>\n",
       "<table border=\"1\" class=\"dataframe\">\n",
       "  <thead>\n",
       "    <tr style=\"text-align: right;\">\n",
       "      <th></th>\n",
       "      <th>Open</th>\n",
       "      <th>High</th>\n",
       "      <th>Low</th>\n",
       "      <th>Close</th>\n",
       "    </tr>\n",
       "  </thead>\n",
       "  <tbody>\n",
       "    <tr>\n",
       "      <th>Open</th>\n",
       "      <td>1.000000</td>\n",
       "      <td>0.999487</td>\n",
       "      <td>0.999566</td>\n",
       "      <td>0.999128</td>\n",
       "    </tr>\n",
       "    <tr>\n",
       "      <th>High</th>\n",
       "      <td>0.999487</td>\n",
       "      <td>1.000000</td>\n",
       "      <td>0.999192</td>\n",
       "      <td>0.999654</td>\n",
       "    </tr>\n",
       "    <tr>\n",
       "      <th>Low</th>\n",
       "      <td>0.999566</td>\n",
       "      <td>0.999192</td>\n",
       "      <td>1.000000</td>\n",
       "      <td>0.999523</td>\n",
       "    </tr>\n",
       "    <tr>\n",
       "      <th>Close</th>\n",
       "      <td>0.999128</td>\n",
       "      <td>0.999654</td>\n",
       "      <td>0.999523</td>\n",
       "      <td>1.000000</td>\n",
       "    </tr>\n",
       "  </tbody>\n",
       "</table>\n",
       "</div>"
      ],
      "text/plain": [
       "           Open      High       Low     Close\n",
       "Open   1.000000  0.999487  0.999566  0.999128\n",
       "High   0.999487  1.000000  0.999192  0.999654\n",
       "Low    0.999566  0.999192  1.000000  0.999523\n",
       "Close  0.999128  0.999654  0.999523  1.000000"
      ]
     },
     "execution_count": 4,
     "metadata": {},
     "output_type": "execute_result"
    }
   ],
   "source": [
    "# criar um terceiro dataframe apenas com as colunas Open, High, Low e Close\n",
    "df3 = df1[[\"Open\", \"High\", \"Low\", \"Close\"]]\n",
    "df3.corr()"
   ]
  },
  {
   "cell_type": "code",
   "execution_count": 5,
   "metadata": {},
   "outputs": [
    {
     "data": {
      "text/html": [
       "<div>\n",
       "<style scoped>\n",
       "    .dataframe tbody tr th:only-of-type {\n",
       "        vertical-align: middle;\n",
       "    }\n",
       "\n",
       "    .dataframe tbody tr th {\n",
       "        vertical-align: top;\n",
       "    }\n",
       "\n",
       "    .dataframe thead th {\n",
       "        text-align: right;\n",
       "    }\n",
       "</style>\n",
       "<table border=\"1\" class=\"dataframe\">\n",
       "  <thead>\n",
       "    <tr style=\"text-align: right;\">\n",
       "      <th></th>\n",
       "      <th>Open</th>\n",
       "      <th>High</th>\n",
       "      <th>Low</th>\n",
       "      <th>Close</th>\n",
       "    </tr>\n",
       "    <tr>\n",
       "      <th>Date</th>\n",
       "      <th></th>\n",
       "      <th></th>\n",
       "      <th></th>\n",
       "      <th></th>\n",
       "    </tr>\n",
       "  </thead>\n",
       "  <tbody>\n",
       "    <tr>\n",
       "      <th>2017-05-23</th>\n",
       "      <td>0.000145</td>\n",
       "      <td>0.000159</td>\n",
       "      <td>0.000130</td>\n",
       "      <td>0.000144</td>\n",
       "    </tr>\n",
       "    <tr>\n",
       "      <th>2017-05-22</th>\n",
       "      <td>0.000141</td>\n",
       "      <td>0.000165</td>\n",
       "      <td>0.000115</td>\n",
       "      <td>0.000141</td>\n",
       "    </tr>\n",
       "    <tr>\n",
       "      <th>2017-05-21</th>\n",
       "      <td>0.000163</td>\n",
       "      <td>0.000178</td>\n",
       "      <td>0.000160</td>\n",
       "      <td>0.000164</td>\n",
       "    </tr>\n",
       "    <tr>\n",
       "      <th>2017-05-20</th>\n",
       "      <td>0.000168</td>\n",
       "      <td>0.000189</td>\n",
       "      <td>0.000147</td>\n",
       "      <td>0.000168</td>\n",
       "    </tr>\n",
       "    <tr>\n",
       "      <th>2017-05-19</th>\n",
       "      <td>0.000164</td>\n",
       "      <td>0.000200</td>\n",
       "      <td>0.000130</td>\n",
       "      <td>0.000169</td>\n",
       "    </tr>\n",
       "  </tbody>\n",
       "</table>\n",
       "</div>"
      ],
      "text/plain": [
       "                Open      High       Low     Close\n",
       "Date                                              \n",
       "2017-05-23  0.000145  0.000159  0.000130  0.000144\n",
       "2017-05-22  0.000141  0.000165  0.000115  0.000141\n",
       "2017-05-21  0.000163  0.000178  0.000160  0.000164\n",
       "2017-05-20  0.000168  0.000189  0.000147  0.000168\n",
       "2017-05-19  0.000164  0.000200  0.000130  0.000169"
      ]
     },
     "execution_count": 5,
     "metadata": {},
     "output_type": "execute_result"
    }
   ],
   "source": [
    "# adaptar o segundo dataframe para criar um quarto dataframe\n",
    "df2.rename(columns = { \"Mid\" : \"Open\", \"Last\" : \"Close\" }, inplace = True)\n",
    "df4 = df2[[\"Open\", \"Close\", \"Low\", \"High\"]]\n",
    "\n",
    "# somar o quarto e quinto dataframe\n",
    "df5 = concat([df3, df4], sort = False)\n",
    "df5.tail(5)"
   ]
  },
  {
   "cell_type": "code",
   "execution_count": 6,
   "metadata": {},
   "outputs": [],
   "source": [
    "# criar dois novos dataframes, um com o desvio padrão e outro com a média da coluna Open\n",
    "mean = df1[\"Open\"].rolling(30).mean()\n",
    "std_dev = df1[\"Open\"].rolling(30).std()"
   ]
  },
  {
   "cell_type": "code",
   "execution_count": 7,
   "metadata": {},
   "outputs": [
    {
     "data": {
      "image/png": "[encoded data removed]",
      "text/plain": [
       "<Figure size 432x288 with 1 Axes>"
      ]
     },
     "metadata": {},
     "output_type": "display_data"
    }
   ],
   "source": [
    "# plotar os gráficos em paralelo do valor da média e o desvio padrão do Open\n",
    "mean.plot()\n",
    "std_dev.plot()\n",
    "pyplot.legend(loc = 4)\n",
    "pyplot.show()"
   ]
  },
  {
   "cell_type": "code",
   "execution_count": 79,
   "metadata": {},
   "outputs": [],
   "source": [
    "def label(open_v, high_v):\n",
    "    if (high_v - open_v) > (high_v / 200):\n",
    "        return 1\n",
    "    else:\n",
    "        return 0"
   ]
  },
  {
   "cell_type": "code",
   "execution_count": 80,
   "metadata": {},
   "outputs": [],
   "source": [
    "df5[\"label\"] = list(map(label, df5[\"Open\"], df5[\"High\"]))"
   ]
  },
  {
   "cell_type": "code",
   "execution_count": 92,
   "metadata": {},
   "outputs": [],
   "source": [
    "df5.fillna(0, inplace = True)\n",
    "x = array(df5.drop([\"label\"], 1))\n",
    "y = array(df5[\"label\"])\n",
    "x = preprocessing.scale(x)\n",
    "x_train, x_test, y_train, y_test = ttsplit(x, y, test_size = 0.25)"
   ]
  },
  {
   "cell_type": "code",
   "execution_count": 93,
   "metadata": {},
   "outputs": [
    {
     "data": {
      "text/plain": [
       "0.4144663395734267"
      ]
     },
     "execution_count": 93,
     "metadata": {},
     "output_type": "execute_result"
    }
   ],
   "source": [
    "lr_signal = lr(n_jobs = 10)\n",
    "lr_signal.fit(x_train, y_train)\n",
    "lr_signal.score(x_test, y_test)"
   ]
  },
  {
   "cell_type": "code",
   "execution_count": 94,
   "metadata": {},
   "outputs": [
    {
     "data": {
      "text/plain": [
       "0.878011350770595"
      ]
     },
     "execution_count": 94,
     "metadata": {},
     "output_type": "execute_result"
    }
   ],
   "source": [
    "buy_signal_svm = svm.SVR(gamma = \"scale\")\n",
    "buy_signal_svm.fit(x_train, y_train)\n",
    "buy_signal_svm.score(x_test, y_test)"
   ]
  },
  {
   "cell_type": "code",
   "execution_count": 117,
   "metadata": {},
   "outputs": [],
   "source": [
    "# Otimização\n",
    "df_lr = df5\n",
    "df_lr[\"oxh\"] = df_lr[\"High\"] - df_lr[\"Open\"]\n",
    "df_lr[\"half\"] = df_lr[\"High\"] / 200\n",
    "xlr_tr, xlr_ts, ylr_tr, ylr_ts = ttsplit(preprocessing.scale(array(df_lr.drop([\"label\"], 1)))\n",
    "                                        , array(df_lr[\"label\"])\n",
    "                                        , test_size = 0.25)"
   ]
  },
  {
   "cell_type": "code",
   "execution_count": 118,
   "metadata": {},
   "outputs": [
    {
     "data": {
      "text/plain": [
       "0.47211365635673175"
      ]
     },
     "execution_count": 118,
     "metadata": {},
     "output_type": "execute_result"
    }
   ],
   "source": [
    "# Regressão Linear\n",
    "lr_signal = lr(n_jobs = 10)\n",
    "lr_signal.fit(xlr_tr, ylr_tr)\n",
    "lr_signal.score(xlr_ts, ylr_ts)"
   ]
  },
  {
   "cell_type": "code",
   "execution_count": 119,
   "metadata": {},
   "outputs": [
    {
     "data": {
      "text/plain": [
       "0.8946059868197602"
      ]
     },
     "execution_count": 119,
     "metadata": {},
     "output_type": "execute_result"
    }
   ],
   "source": [
    "# SVM\n",
    "buy_signal_svm = svm.SVR(gamma = \"scale\")\n",
    "buy_signal_svm.fit(xlr_tr, ylr_tr)\n",
    "buy_signal_svm.score(xlr_ts, ylr_ts)"
   ]
  },
  {
   "cell_type": "code",
   "execution_count": null,
   "metadata": {},
   "outputs": [],
   "source": []
  }
 ],
 "metadata": {
  "kernelspec": {
   "display_name": "Python 3",
   "language": "python",
   "name": "python3"
  },
  "language_info": {
   "codemirror_mode": {
    "name": "ipython",
    "version": 3
   },
   "file_extension": ".py",
   "mimetype": "text/x-python",
   "name": "python",
   "nbconvert_exporter": "python",
   "pygments_lexer": "ipython3",
   "version": "3.6.5"
  }
 },
 "nbformat": 4,
 "nbformat_minor": 2
}
