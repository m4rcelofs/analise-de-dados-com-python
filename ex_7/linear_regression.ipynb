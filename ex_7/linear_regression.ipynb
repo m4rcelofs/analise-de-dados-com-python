{
 "cells": [
  {
   "cell_type": "code",
   "execution_count": 305,
   "metadata": {},
   "outputs": [],
   "source": [
    "from quandl import get\n",
    "from sklearn import preprocessing, svm\n",
    "from sklearn.model_selection import train_test_split as ttsplit\n",
    "from sklearn.linear_model import LinearRegression as lr\n",
    "from matplotlib import pyplot, style\n",
    "from pandas import DataFrame\n",
    "import numpy"
   ]
  },
  {
   "cell_type": "code",
   "execution_count": 306,
   "metadata": {},
   "outputs": [],
   "source": [
    "style.use(\"ggplot\")"
   ]
  },
  {
   "cell_type": "code",
   "execution_count": 307,
   "metadata": {},
   "outputs": [],
   "source": [
    "key = open(\"../key\").read()[:-1]\n",
    "df = get(\"XFRA/SES\", authtoken = key)"
   ]
  },
  {
   "cell_type": "code",
   "execution_count": 308,
   "metadata": {},
   "outputs": [],
   "source": [
    "def labol_detect(open_v, close_v):\n",
    "    if (close_v - open_v) > (open_v / 100):\n",
    "        return 1\n",
    "    else:\n",
    "        return 0"
   ]
  },
  {
   "cell_type": "code",
   "execution_count": 309,
   "metadata": {},
   "outputs": [],
   "source": [
    "df[\"labol\"] = list(map(labol_detect, df[\"Open\"], df[\"Close\"]))"
   ]
  },
  {
   "cell_type": "code",
   "execution_count": 310,
   "metadata": {},
   "outputs": [],
   "source": [
    "df = df.fillna(0)\n",
    "x = numpy.array(df.drop([\"labol\"], 1))\n",
    "y = numpy.array(df[\"labol\"])\n",
    "x = preprocessing.scale(x)"
   ]
  },
  {
   "cell_type": "code",
   "execution_count": 311,
   "metadata": {},
   "outputs": [],
   "source": [
    "len_x = len(x)\n",
    "br_point = int((len_x / 100) * 70)\n",
    "x_now = x[:br_point]\n",
    "x_fut = x[br_point:]\n",
    "y_now = y[:br_point]\n",
    "y_fut = y[br_point:]\n",
    "x_train, x_test, y_train, y_test = ttsplit(x_now, y_now, test_size = 0.2)"
   ]
  },
  {
   "cell_type": "code",
   "execution_count": 312,
   "metadata": {},
   "outputs": [
    {
     "data": {
      "text/plain": [
       "0.6402527847342344"
      ]
     },
     "execution_count": 312,
     "metadata": {},
     "output_type": "execute_result"
    }
   ],
   "source": [
    "buy_signal_lr = lr(n_jobs = 10)\n",
    "buy_signal_lr.fit(x_train, y_train)\n",
    "buy_signal_lr.score(x_test, y_test)"
   ]
  },
  {
   "cell_type": "code",
   "execution_count": 313,
   "metadata": {},
   "outputs": [
    {
     "data": {
      "text/plain": [
       "0.10189065194311499"
      ]
     },
     "execution_count": 313,
     "metadata": {},
     "output_type": "execute_result"
    }
   ],
   "source": [
    "buy_signal_svm = svm.SVR(gamma = \"scale\")\n",
    "buy_signal_svm.fit(x_train, y_train)\n",
    "buy_signal_svm.score(x_test, y_test)"
   ]
  },
  {
   "cell_type": "code",
   "execution_count": 314,
   "metadata": {},
   "outputs": [],
   "source": [
    "forecast_set_lr = buy_signal_lr.predict(x_fut)\n",
    "forecast_set_svm = buy_signal_lr.predict(x_fut)"
   ]
  },
  {
   "cell_type": "code",
   "execution_count": 315,
   "metadata": {},
   "outputs": [],
   "source": [
    "nan_row = [[numpy.nan] * 7] * len_x\n",
    "df_realsig = DataFrame(x_now.tolist() + nan_row[br_point:], columns = list(df.columns)[:-1], index = df.index)\n",
    "df_futsig = DataFrame(nan_row[:br_point] + x_fut.tolist(), columns = list(df.columns)[:-1], index = df.index)"
   ]
  },
  {
   "cell_type": "code",
   "execution_count": 316,
   "metadata": {},
   "outputs": [
    {
     "data": {
      "image/png": "[encoded data removed]",
      "text/plain": [
       "<Figure size 432x288 with 1 Axes>"
      ]
     },
     "metadata": {},
     "output_type": "display_data"
    }
   ],
   "source": [
    "df_realsig[\"Close\"].plot()\n",
    "df_futsig[\"Close\"].plot()\n",
    "pyplot.xlabel(\"Date\")\n",
    "pyplot.ylabel(\"Price\")\n",
    "pyplot.show()"
   ]
  }
 ],
 "metadata": {
  "kernelspec": {
   "display_name": "Python 3",
   "language": "python",
   "name": "python3"
  },
  "language_info": {
   "codemirror_mode": {
    "name": "ipython",
    "version": 3
   },
   "file_extension": ".py",
   "mimetype": "text/x-python",
   "name": "python",
   "nbconvert_exporter": "python",
   "pygments_lexer": "ipython3",
   "version": "3.6.5"
  }
 },
 "nbformat": 4,
 "nbformat_minor": 2
}
