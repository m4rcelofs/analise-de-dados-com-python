{
 "cells": [
  {
   "cell_type": "code",
   "execution_count": 68,
   "metadata": {},
   "outputs": [],
   "source": [
    "from quandl import get\n",
    "from sklearn import preprocessing, svm\n",
    "from sklearn.model_selection import train_test_split as ttsplit\n",
    "from sklearn.linear_model import LinearRegression as lr\n",
    "from matplotlib import pyplot, style\n",
    "from pandas import DataFrame\n",
    "import numpy\n",
    "from pickle import dump, load"
   ]
  },
  {
   "cell_type": "code",
   "execution_count": 69,
   "metadata": {},
   "outputs": [],
   "source": [
    "style.use(\"ggplot\")"
   ]
  },
  {
   "cell_type": "code",
   "execution_count": 70,
   "metadata": {},
   "outputs": [],
   "source": [
    "key = open(\"../key\").read()[:-1]\n",
    "df = get(\"XFRA/SES\", authtoken = key)"
   ]
  },
  {
   "cell_type": "code",
   "execution_count": 71,
   "metadata": {},
   "outputs": [],
   "source": [
    "def label_detect(open_v, close_v):\n",
    "    if close_v > open_v:\n",
    "        return 1\n",
    "    else:\n",
    "        return 0"
   ]
  },
  {
   "cell_type": "code",
   "execution_count": 72,
   "metadata": {},
   "outputs": [],
   "source": [
    "df[\"label\"] = list(map(label_detect, df[\"Open\"], df[\"Close\"]))"
   ]
  },
  {
   "cell_type": "code",
   "execution_count": 73,
   "metadata": {},
   "outputs": [],
   "source": [
    "df = df.fillna(0)\n",
    "x = numpy.array(df.drop([\"label\"], 1))\n",
    "y = numpy.array(df[\"label\"])\n",
    "x = preprocessing.scale(x)"
   ]
  },
  {
   "cell_type": "code",
   "execution_count": 74,
   "metadata": {},
   "outputs": [],
   "source": [
    "len_x = len(x)\n",
    "br_point = int((len_x / 100) * 70)\n",
    "x_now = x[:br_point]\n",
    "x_fut = x[br_point:]\n",
    "y_now = y[:br_point]\n",
    "y_fut = y[br_point:]\n",
    "x_train, x_test, y_train, y_test = ttsplit(x_now, y_now, test_size = 0.2)"
   ]
  },
  {
   "cell_type": "code",
   "execution_count": 75,
   "metadata": {},
   "outputs": [
    {
     "data": {
      "text/plain": [
       "0.44337880469445257"
      ]
     },
     "execution_count": 75,
     "metadata": {},
     "output_type": "execute_result"
    }
   ],
   "source": [
    "buy_signal_lr = lr(n_jobs = 10)\n",
    "buy_signal_lr.fit(x_train, y_train)\n",
    "buy_signal_lr.score(x_test, y_test)"
   ]
  },
  {
   "cell_type": "code",
   "execution_count": 76,
   "metadata": {},
   "outputs": [],
   "source": [
    "with open(\"trainnedmodel_lrpickle\",\"wb\") as f: dump(buy_signal_lr, f)"
   ]
  },
  {
   "cell_type": "code",
   "execution_count": 77,
   "metadata": {},
   "outputs": [],
   "source": [
    "buy_signal_lr = load(open(\"trainnedmodel_lrpickle\", \"rb\"))"
   ]
  },
  {
   "cell_type": "code",
   "execution_count": 78,
   "metadata": {},
   "outputs": [
    {
     "data": {
      "text/plain": [
       "0.1706061109913849"
      ]
     },
     "execution_count": 78,
     "metadata": {},
     "output_type": "execute_result"
    }
   ],
   "source": [
    "buy_signal_svm = svm.SVR(gamma = \"scale\")\n",
    "buy_signal_svm.fit(x_train, y_train)\n",
    "buy_signal_svm.score(x_test, y_test)"
   ]
  },
  {
   "cell_type": "code",
   "execution_count": 84,
   "metadata": {},
   "outputs": [
    {
     "ename": "IndexError",
     "evalue": "only integers, slices (`:`), ellipsis (`...`), numpy.newaxis (`None`) and integer or boolean arrays are valid indices",
     "output_type": "error",
     "traceback": [
      "\u001b[0;31m---------------------------------------------------------------------------\u001b[0m",
      "\u001b[0;31mIndexError\u001b[0m                                Traceback (most recent call last)",
      "\u001b[0;32m<ipython-input-84-0bcf25c327e1>\u001b[0m in \u001b[0;36m<module>\u001b[0;34m\u001b[0m\n\u001b[0;32m----> 1\u001b[0;31m \u001b[0mforecast_set_lr\u001b[0m \u001b[0;34m=\u001b[0m \u001b[0mbuy_signal_lr\u001b[0m\u001b[0;34m.\u001b[0m\u001b[0mpredict\u001b[0m\u001b[0;34m(\u001b[0m\u001b[0mnumpy\u001b[0m\u001b[0;34m.\u001b[0m\u001b[0marray\u001b[0m\u001b[0;34m(\u001b[0m\u001b[0mx_fut\u001b[0m\u001b[0;34m[\u001b[0m\u001b[0;34m\"Close\"\u001b[0m\u001b[0;34m]\u001b[0m\u001b[0;34m)\u001b[0m\u001b[0;34m)\u001b[0m\u001b[0;34m\u001b[0m\u001b[0m\n\u001b[0m\u001b[1;32m      2\u001b[0m \u001b[0;31m# forecast_set_svm = buy_signal_svm.predict(x_fut[\"Close\"])\u001b[0m\u001b[0;34m\u001b[0m\u001b[0;34m\u001b[0m\u001b[0m\n",
      "\u001b[0;31mIndexError\u001b[0m: only integers, slices (`:`), ellipsis (`...`), numpy.newaxis (`None`) and integer or boolean arrays are valid indices"
     ]
    }
   ],
   "source": [
    "forecast_set_lr = buy_signal_lr.predict(numpy.array(x_fut[\"Close\"]))\n",
    "# forecast_set_svm = buy_signal_svm.predict(x_fut[\"Close\"])"
   ]
  },
  {
   "cell_type": "code",
   "execution_count": null,
   "metadata": {},
   "outputs": [],
   "source": [
    "nan_row = [[numpy.nan] * 7] * len_x\n",
    "df_realsig = DataFrame(x_now.tolist() + nan_row[br_point:], columns = list(df.columns)[:-1], index = df.index)\n",
    "df_futsig = DataFrame(nan_row[:br_point] + x_fut.tolist(), columns = list(df.columns)[:-1], index = df.index)"
   ]
  },
  {
   "cell_type": "code",
   "execution_count": null,
   "metadata": {},
   "outputs": [],
   "source": [
    "df_realsig[\"Close\"].plot()\n",
    "df_futsig[\"Close\"].plot()\n",
    "pyplot.xlabel(\"Date\")\n",
    "pyplot.ylabel(\"Price\")\n",
    "pyplot.show()"
   ]
  },
  {
   "cell_type": "code",
   "execution_count": null,
   "metadata": {},
   "outputs": [],
   "source": [
    "df[\"Open\"].plot.kde()\n",
    "pyplot.show()"
   ]
  },
  {
   "cell_type": "code",
   "execution_count": null,
   "metadata": {},
   "outputs": [],
   "source": [
    "df[\"Volume\"].plot.kde()\n",
    "pyplot.show()"
   ]
  },
  {
   "cell_type": "code",
   "execution_count": null,
   "metadata": {},
   "outputs": [],
   "source": []
  }
 ],
 "metadata": {
  "kernelspec": {
   "display_name": "Python 3",
   "language": "python",
   "name": "python3"
  },
  "language_info": {
   "codemirror_mode": {
    "name": "ipython",
    "version": 3
   },
   "file_extension": ".py",
   "mimetype": "text/x-python",
   "name": "python",
   "nbconvert_exporter": "python",
   "pygments_lexer": "ipython3",
   "version": "3.6.5"
  }
 },
 "nbformat": 4,
 "nbformat_minor": 2
}
